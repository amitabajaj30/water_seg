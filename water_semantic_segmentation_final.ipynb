{
  "cells": [
    {
      "cell_type": "markdown",
      "source": [
        "# Installing the required **Libraries**"
      ],
      "metadata": {
        "id": "QmVGJ8S557ZW"
      }
    },
    {
      "cell_type": "code",
      "source": [
        "!pip install -U torch torchvision\n",
        "!pip install git+https://github.com/facebookresearch/fvcore.git\n",
        "!git clone https://github.com/facebookresearch/detectron2 detectron2_repo\n",
        "!pip install -e detectron2_repo"
      ],
      "metadata": {
        "id": "6clSXwbi5rYG"
      },
      "execution_count": null,
      "outputs": []
    },
    {
      "cell_type": "markdown",
      "source": [
        "# Connecting Colab to Drive\n"
      ],
      "metadata": {
        "id": "lR9NwjjO6Nxr"
      }
    },
    {
      "cell_type": "code",
      "execution_count": null,
      "metadata": {
        "id": "zqMB9d2q_5XJ"
      },
      "outputs": [],
      "source": [
        "from google.colab import drive\n",
        "drive.mount('/content/drive')"
      ]
    },
    {
      "cell_type": "markdown",
      "source": [
        "Getting the Data"
      ],
      "metadata": {
        "id": "14HrRyiX6bNM"
      }
    },
    {
      "cell_type": "code",
      "execution_count": null,
      "metadata": {
        "id": "USfzWVpk5Uzz"
      },
      "outputs": [],
      "source": [
        "!cp /content/drive/MyDrive/new_data_aug.zip /content"
      ]
    },
    {
      "cell_type": "markdown",
      "metadata": {
        "id": "CgxSFUSrAISY"
      },
      "source": [
        "Unzip the data"
      ]
    },
    {
      "cell_type": "code",
      "execution_count": null,
      "metadata": {
        "id": "8RfrpN1HAdI_"
      },
      "outputs": [],
      "source": [
        "!unzip /content/new_data_aug.zip"
      ]
    },
    {
      "cell_type": "code",
      "execution_count": null,
      "metadata": {
        "id": "tPCODaYZ58DU"
      },
      "outputs": [],
      "source": [
        "%cd /content/detectron2_repo"
      ]
    },
    {
      "cell_type": "markdown",
      "source": [
        "Importing the libraries"
      ],
      "metadata": {
        "id": "3wO84RGM6n59"
      }
    },
    {
      "cell_type": "code",
      "execution_count": null,
      "metadata": {
        "id": "T5fL7-AGwX-z"
      },
      "outputs": [],
      "source": [
        "import detectron2\n",
        "from detectron2.utils.logger import setup_logger\n",
        "setup_logger()\n",
        "\n",
        "# import some common libraries\n",
        "import numpy as np\n",
        "import os, json, cv2, random\n",
        "from google.colab.patches import cv2_imshow\n",
        "\n",
        "# import some common detectron2 utilities\n",
        "from detectron2 import model_zoo\n",
        "from detectron2.engine import DefaultPredictor\n",
        "from detectron2.config import get_cfg\n",
        "from detectron2.utils.visualizer import Visualizer\n",
        "from detectron2.data import MetadataCatalog, DatasetCatalog"
      ]
    },
    {
      "cell_type": "markdown",
      "source": [
        "Registering the Training and Validation images as coco instances\n",
        "\n",
        "---\n",
        "\n"
      ],
      "metadata": {
        "id": "1o5jSYSP6uhz"
      }
    },
    {
      "cell_type": "code",
      "execution_count": null,
      "metadata": {
        "id": "b4X-_su0AHfK"
      },
      "outputs": [],
      "source": [
        "from detectron2.data.datasets import register_coco_instances\n",
        "# register_coco_instances(\"glass_crack\", {}, \"/content/oliena-SingleDefectMask-updated/train.json\", \"/content/oliena-SingleDefectMask-updated/train/images\")\n",
        "\n",
        "register_coco_instances(\"water_train\", {}, \"/content/new_data_aug/train/images/train.json\", \"/content/new_data_aug/train/images\")\n",
        "register_coco_instances(\"water_valid\", {}, \"/content/new_data_aug/valid/images/valid.json\", \"/content/new_data_aug/valid/images\")"
      ]
    },
    {
      "cell_type": "code",
      "execution_count": null,
      "metadata": {
        "id": "S7xL_kGCwJZP"
      },
      "outputs": [],
      "source": [
        "fruits_nuts_metadata_train = MetadataCatalog.get(\"water_train\")\n",
        "fruits_nuts_metadata_valid = MetadataCatalog.get(\"water_valid\")\n",
        "print(fruits_nuts_metadata_train)"
      ]
    },
    {
      "cell_type": "code",
      "execution_count": null,
      "metadata": {
        "id": "oJbMlr4IBHTR"
      },
      "outputs": [],
      "source": [
        "dataset_dicts_train = DatasetCatalog.get(\"water_train\")\n",
        "dataset_dicts_valid = DatasetCatalog.get(\"water_valid\")"
      ]
    },
    {
      "cell_type": "code",
      "execution_count": null,
      "metadata": {
        "id": "jiQxTLndBBs0"
      },
      "outputs": [],
      "source": [
        "\n",
        "import random\n",
        "from detectron2.utils.visualizer import Visualizer\n",
        "for d in random.sample(dataset_dicts_train, 3):\n",
        "    print(d)\n",
        "    img = cv2.imread(d[\"file_name\"])\n",
        "    visualizer = Visualizer(img[:, :, ::-1], metadata=fruits_nuts_metadata_train, scale=0.5)\n",
        "    vis = visualizer.draw_dataset_dict(d)\n",
        "    cv2_imshow(vis.get_image()[:, :, ::-1])"
      ]
    },
    {
      "cell_type": "markdown",
      "source": [
        "Customize configurations from model zoo\n",
        "\n",
        "\n"
      ],
      "metadata": {
        "id": "42bA-rGZ9SGF"
      }
    },
    {
      "cell_type": "code",
      "execution_count": null,
      "metadata": {
        "id": "PxklYClww1KK"
      },
      "outputs": [],
      "source": [
        "from detectron2.engine import DefaultTrainer\n",
        "from detectron2.config import get_cfg\n",
        "import os\n",
        "cfg = get_cfg()\n",
        "cfg.merge_from_file(\n",
        "    \"/content/detectron2_repo/configs/COCO-InstanceSegmentation/mask_rcnn_R_50_FPN_3x.yaml\"\n",
        ")\n",
        "cfg.DATASETS.TRAIN = (\"water_train\",)\n",
        "cfg.DATASETS.TEST = (\"water_valid\",)  # no metrics implemented for this dataset\n",
        "cfg.DATALOADER.NUM_WORKERS = 2\n",
        "cfg.MODEL.WEIGHTS = \"detectron2://COCO-InstanceSegmentation/mask_rcnn_R_50_FPN_3x/137849600/model_final_f10217.pkl\"  # initialize from model zoo\n",
        "cfg.SOLVER.IMS_PER_BATCH = 2\n",
        "cfg.SOLVER.BASE_LR = 0.002\n",
        "cfg.SOLVER.MAX_ITER = (\n",
        "    1000\n",
        ")  # 300 iterations seems good enough, but you can certainly train longer\n",
        "cfg.MODEL.ROI_HEADS.BATCH_SIZE_PER_IMAGE = (\n",
        "    128\n",
        ")  # faster, and good enough for this toy dataset\n",
        "cfg.MODEL.ROI_HEADS.NUM_CLASSES = 1  # 3 classes (data, fig, hazelnut)\n",
        "\n",
        "os.makedirs(cfg.OUTPUT_DIR, exist_ok=True)\n",
        "trainer = DefaultTrainer(cfg)\n"
      ]
    },
    {
      "cell_type": "markdown",
      "source": [
        "Training on Custom Dataset"
      ],
      "metadata": {
        "id": "Gk2zvJSaveV0"
      }
    },
    {
      "cell_type": "code",
      "source": [
        "#trainer.resume_or_load(resume=False)\n",
        "#trainer.train()"
      ],
      "metadata": {
        "id": "U0FEVX1y-AqG"
      },
      "execution_count": null,
      "outputs": []
    },
    {
      "cell_type": "code",
      "execution_count": null,
      "metadata": {
        "id": "m9w5sm_tyGjZ"
      },
      "outputs": [],
      "source": [
        "from detectron2.engine import DefaultTrainer\n",
        "from detectron2.config import get_cfg\n",
        "import os\n",
        "cfg.MODEL.WEIGHTS = os.path.join(\"/content/drive/MyDrive/model_final_new_data_aug.pth\")\n",
        "cfg.MODEL.ROI_HEADS.SCORE_THRESH_TEST = 0.8   # set the testing threshold for this model\n",
        "cfg.DATASETS.TEST = (\"water_test\", )\n",
        "cfg.MODEL.ROI_HEADS.NUM_CLASSES = 1\n",
        "predictor = DefaultPredictor(cfg)"
      ]
    },
    {
      "cell_type": "code",
      "execution_count": null,
      "metadata": {
        "id": "Y6Aasl6oyN-w"
      },
      "outputs": [],
      "source": [
        "\n",
        "from detectron2.utils.visualizer import ColorMode\n",
        "\n",
        "for d in random.sample(dataset_dicts_valid, 3):    \n",
        "    im = cv2.imread(d[\"file_name\"])\n",
        "    outputs = predictor(im)\n",
        "    v = Visualizer(im[:, :, ::-1],\n",
        "                   metadata=fruits_nuts_metadata_valid, \n",
        "                   scale=0.8, \n",
        "                   instance_mode=ColorMode.IMAGE_BW   # remove the colors of unsegmented pixels\n",
        "    )\n",
        "    v = v.draw_instance_predictions(outputs[\"instances\"].to(\"cpu\"))\n",
        "    cv2_imshow(v.get_image()[:, :, ::-1])"
      ]
    },
    {
      "cell_type": "code",
      "source": [
        "Inference on an image"
      ],
      "metadata": {
        "id": "ZbK23gi8toOX"
      },
      "execution_count": null,
      "outputs": []
    },
    {
      "cell_type": "code",
      "execution_count": null,
      "metadata": {
        "id": "w-DSL8rqJh-o"
      },
      "outputs": [],
      "source": [
        "\n",
        "from detectron2.utils.visualizer import ColorMode\n",
        "\n",
        "#for d in random.sample(dataset_dicts_valid, 3):    \n",
        "im = cv2.imread(\"/Capture4.JPG\")\n",
        "im = cv2.resize(im,[512,512])\n",
        "outputs = predictor(im)\n",
        "masks=outputs[\"instances\"].pred_masks\n",
        "v = Visualizer(im[:, :, ::-1],\n",
        "                metadata=fruits_nuts_metadata_valid, \n",
        "                scale=0.8, \n",
        "                instance_mode=ColorMode.IMAGE_BW   # remove the colors of unsegmented pixels\n",
        ")\n",
        "v = v.draw_instance_predictions(outputs[\"instances\"].to(\"cpu\"))\n",
        "\n",
        "x = []\n",
        "for mask in masks:\n",
        "    x.append(mask.sum().item())  \n",
        "\n",
        "cv2_imshow(v.get_image()[:, :, ::-1])"
      ]
    },
    {
      "cell_type": "code",
      "execution_count": null,
      "metadata": {
        "id": "wxkhWyN_Pm_X"
      },
      "outputs": [],
      "source": [
        "!rm -rf /content/frames\n",
        "!rm -rf /content/output_frames\n"
      ]
    },
    {
      "cell_type": "code",
      "source": [
        "import os\n",
        "os.makedirs('/content/frames')"
      ],
      "metadata": {
        "id": "T59dfQsT2geV"
      },
      "execution_count": null,
      "outputs": []
    },
    {
      "cell_type": "code",
      "execution_count": null,
      "metadata": {
        "id": "YNouck9iQpQb"
      },
      "outputs": [],
      "source": [
        "import os\n",
        "os.mkdir('/content/output_frames')"
      ]
    },
    {
      "cell_type": "markdown",
      "source": [
        "Inference on the video "
      ],
      "metadata": {
        "id": "Liq2hL5uv0UV"
      }
    },
    {
      "cell_type": "code",
      "execution_count": null,
      "metadata": {
        "id": "1xKftRlbjTJ3"
      },
      "outputs": [],
      "source": [
        "import cv2\n",
        "\n",
        "cap = cv2.VideoCapture(r'/content/drive/MyDrive/clip2.mp4')\n",
        "\n",
        "fps = int(cap.get(cv2.CAP_PROP_FPS))\n",
        "print(fps)\n",
        "frame_rate = cap.get(5)\n",
        "print(\"frame rate\",frame_rate)\n",
        "save_interval = 1\n",
        "count = 0\n",
        "frame_count = 0\n",
        "while cap.isOpened():\n",
        "  ret, frame = cap.read()\n",
        "  if ret:\n",
        "    frame_count += 1\n",
        "    if frame_count % (fps * save_interval) == 0:\n",
        "      count = count + 1\n",
        "      frame = cv2.resize(frame,[256,256])\n",
        "      outputs = predictor(frame)\n",
        "\n",
        "      masks=outputs[\"instances\"].pred_masks\n",
        "     \n",
        "      x = []\n",
        "      for mask in masks:\n",
        "            x.append((mask.sum()).item())\n",
        "      print(x)\n",
        "      v = Visualizer(frame[:, :, ::-1],metadata=fruits_nuts_metadata_valid,scale=1.2)\n",
        "      v = v.draw_instance_predictions(outputs[\"instances\"].to(\"cpu\"))\n",
        "      output_frame = v.get_image()[:, :, ::-1]\n",
        "      a=mask.sum() \n",
        "      img=output_frame.copy()\n",
        "      output_frame = cv2.putText(img, text='Size of water mask: '+str(x), org=(50, 50), fontFace=cv2.FONT_HERSHEY_TRIPLEX, fontScale=0.75, color=(0,0,0),thickness=1)\n",
        "      \n",
        "      cv2.imwrite('/content/output_frames/'+str(count)+'water.jpg',output_frame)\n",
        "      \n",
        "      frame_count = 0\n",
        "\n",
        "# Break the loop\n",
        "  else:\n",
        "    break\n",
        "\n",
        "cap.release()\n",
        "cv2.destroyAllWindows()"
      ]
    },
    {
      "cell_type": "code",
      "execution_count": null,
      "metadata": {
        "id": "V-i-8h9FPnE2"
      },
      "outputs": [],
      "source": [
        "!zip -r /content/water_frames2.zip /content/output_frames"
      ]
    },
    {
      "cell_type": "markdown",
      "source": [
        "Postprocess the model output to extract the predicted masks."
      ],
      "metadata": {
        "id": "r7_7xU9-uZcI"
      }
    },
    {
      "cell_type": "code",
      "source": [
        "import os\n",
        "import natsort\n",
        "\n",
        "dir_path = \"/content/output_frames\"\n",
        "\n",
        "filenames = os.listdir(dir_path)\n",
        "sorted_filenames = natsort.natsorted(filenames)\n",
        "\n",
        "print(sorted_filenames)\n"
      ],
      "metadata": {
        "id": "qo8BZTXW10LT"
      },
      "execution_count": null,
      "outputs": []
    },
    {
      "cell_type": "markdown",
      "source": [
        "Run inference on the input data using the loaded model."
      ],
      "metadata": {
        "id": "EvwNoceTub1I"
      }
    },
    {
      "cell_type": "code",
      "source": [
        "import numpy as np\n",
        "import glob\n",
        "import os\n",
        "img_array = []\n",
        "filename = []\n",
        "import cv2\n",
        "dir_path = \"/content/output_frames\"\n",
        "\n",
        "filenames = os.listdir(dir_path)\n",
        "for filename in sorted_filenames:\n",
        "    filename = '/content/output_frames/'+filename\n",
        "    print(filename)\n",
        "    \n",
        "    img = cv2.imread(filename)\n",
        "    height, width, layers = img.shape\n",
        "    size = (width,height)\n",
        "    img_array.append(img)\n",
        "    \n",
        "out = cv2.VideoWriter('/content/project8.avi',cv2.VideoWriter_fourcc(*'DIVX'), 1, size)\n",
        " \n",
        "for i in range(len(img_array)):\n",
        "    #print(i)\n",
        "    out.write(img_array[i])\n",
        "out.release()  "
      ],
      "metadata": {
        "id": "OCadEO7Z1aFT"
      },
      "execution_count": null,
      "outputs": []
    }
  ],
  "metadata": {
    "accelerator": "GPU",
    "colab": {
      "private_outputs": true,
      "provenance": []
    },
    "gpuClass": "standard",
    "kernelspec": {
      "display_name": "Python 3",
      "name": "python3"
    },
    "language_info": {
      "name": "python"
    }
  },
  "nbformat": 4,
  "nbformat_minor": 0
}